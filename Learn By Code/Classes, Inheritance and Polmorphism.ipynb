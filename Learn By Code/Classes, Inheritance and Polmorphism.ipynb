{
 "cells": [
  {
   "cell_type": "markdown",
   "metadata": {},
   "source": [
    "## In this section we will learn Classes, Inheritance and Polmorphism"
   ]
  },
  {
   "cell_type": "code",
   "execution_count": 15,
   "metadata": {},
   "outputs": [],
   "source": [
    "# Declaring a Class, its attributes and the class methods\n",
    "\n",
    "class Dog:\n",
    "\n",
    "    def __init__(self,name,breed,age):\n",
    "        self.name = name\n",
    "        self.breed = breed\n",
    "        self.age = age\n",
    "    def disp_Dog_info(self):\n",
    "        print(\"Dog Name:\",self.name,\"Breed:\",self.breed,\"Age:\",self.age)       \n"
   ]
  },
  {
   "cell_type": "code",
   "execution_count": 16,
   "metadata": {},
   "outputs": [
    {
     "name": "stdout",
     "output_type": "stream",
     "text": [
      "Dog Name: Meko Breed: Grand Teriare Age: 3\n"
     ]
    }
   ],
   "source": [
    "# Test code for Dog class\n",
    "Meko = Dog('Meko','Grand Teriare',3)\n",
    "Meko.disp_Dog_info()"
   ]
  },
  {
   "cell_type": "markdown",
   "metadata": {},
   "source": [
    "## Inheritance\n",
    "* Where we create a child class, that inherits attributes and methods of a parent class. In addition, you can add more \n",
    "* attributes and methods to this new child class, which will be only found for this class only, not in the parent class."
   ]
  },
  {
   "cell_type": "code",
   "execution_count": 33,
   "metadata": {},
   "outputs": [],
   "source": [
    "# Declaring a Class called Bull Dog, which is a child class derived from Dog class which would be the parent for Bull Dog class\n",
    "\n",
    "class BullDog(Dog):\n",
    "    \n",
    "    def __init__(self,name,age):\n",
    "        super().__init__(name,'Bull Dog',age) #super() calls parent class methods, this line will initiate the initialization of parent class\n",
    "    def bark(self):\n",
    "        print(\"Woaf Woaf\")\n",
    "\n",
    "class Pug(Dog):\n",
    "    \n",
    "    def __init__(self,name,age):\n",
    "        super().__init__(name,'Pug',age)\n",
    "    def bark(self):\n",
    "        print(\"Weew Weew\")\n",
    "    "
   ]
  },
  {
   "cell_type": "code",
   "execution_count": 35,
   "metadata": {},
   "outputs": [
    {
     "name": "stdout",
     "output_type": "stream",
     "text": [
      "Weew Weew\n",
      "Woaf Woaf\n",
      "Dog Name: Seksek Breed: Pug Age: 2\n",
      "Dog Name: Khodra Breed: Bull Dog Age: 4\n"
     ]
    }
   ],
   "source": [
    "# Test code for BullDog and Pug classes\n",
    "Seksek = Pug(\"Seksek\",2)\n",
    "Khodra = BullDog(\"Khodra\",4)\n",
    "Seksek.bark()\n",
    "Khodra.bark()\n",
    "Seksek.disp_Dog_info()\n",
    "Khodra.disp_Dog_info()"
   ]
  },
  {
   "cell_type": "markdown",
   "metadata": {},
   "source": [
    "# Polymorphism\n",
    "* In literal sense, Polymorphism means the ability to take various forms. In Python, Polymorphism allows us to define methods \n",
    "* in the child class with the same name as defined in their parent class."
   ]
  },
  {
   "cell_type": "code",
   "execution_count": 40,
   "metadata": {},
   "outputs": [],
   "source": [
    "# Example to Polymorphism, where we create a parent and a child of this parent, the parent has a method (e.g method result print(1)), we over-ride this\n",
    "# method in the child class (e.g method result print(5)). What happends that if we call this method in an object of parent class\n",
    "# the result is print(1), but if we called it from a child object of the child classs, the result is print(5)\n",
    "\n",
    "class Table():\n",
    "    def fall(self):\n",
    "        print('Paw')\n",
    "class RoundTable(Table):\n",
    "    def fall(self):\n",
    "        print('Ziwww')"
   ]
  },
  {
   "cell_type": "code",
   "execution_count": 42,
   "metadata": {},
   "outputs": [
    {
     "name": "stdout",
     "output_type": "stream",
     "text": [
      "Paw\n",
      "Ziwww\n"
     ]
    }
   ],
   "source": [
    "# Test code for Polymorphism and parent method over-riding\n",
    "Khashaba = Table()\n",
    "Arawana = RoundTable()\n",
    "Khashaba.fall()\n",
    "Arawana.fall()"
   ]
  },
  {
   "cell_type": "code",
   "execution_count": 43,
   "metadata": {},
   "outputs": [],
   "source": [
    "# In case you want to also use the over-riden method of the parent child inside your child class, although you have an \n",
    "# over-riden method\n",
    "\n",
    "class Table():\n",
    "    def fall(self):\n",
    "        print('Paw')\n",
    "class RoundTable(Table):\n",
    "    def fall(self):\n",
    "        super().fall()\n",
    "        print('Ziwww')"
   ]
  },
  {
   "cell_type": "code",
   "execution_count": 44,
   "metadata": {},
   "outputs": [
    {
     "name": "stdout",
     "output_type": "stream",
     "text": [
      "Paw\n",
      "Paw\n",
      "Ziwww\n"
     ]
    }
   ],
   "source": [
    "# Test code for using the over riden method of parent inside the child class\n",
    "Khashaba = Table()\n",
    "Arawana = RoundTable()\n",
    "Khashaba.fall()\n",
    "Arawana.fall()"
   ]
  },
  {
   "cell_type": "code",
   "execution_count": null,
   "metadata": {},
   "outputs": [],
   "source": []
  }
 ],
 "metadata": {
  "kernelspec": {
   "display_name": "Python 3",
   "language": "python",
   "name": "python3"
  },
  "language_info": {
   "codemirror_mode": {
    "name": "ipython",
    "version": 3
   },
   "file_extension": ".py",
   "mimetype": "text/x-python",
   "name": "python",
   "nbconvert_exporter": "python",
   "pygments_lexer": "ipython3",
   "version": "3.7.6"
  }
 },
 "nbformat": 4,
 "nbformat_minor": 4
}
