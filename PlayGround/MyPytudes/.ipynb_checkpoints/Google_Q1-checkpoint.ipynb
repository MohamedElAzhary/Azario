{
 "cells": [
  {
   "cell_type": "markdown",
   "metadata": {},
   "source": [
    "## Google Mock up interview questions_Q1\n",
    "\n",
    "* Let say we have two persons where each has a calendar, and unavailability boundry hours [Min,Max]\n",
    "* What are the common available times for a 30 minute meeting for both ?\n",
    "* Example: John has meetings in [ ['9:00','10:30'],['12:00','13:00'],['16:00','18:00'] ]   , Boundary hours ['9:00','20:00']\n",
    "           Mark has meetings in [ ['10:00','11:30'],['12:30','14:30'],['14:30','15:00'],['16:00','17:00']], Boundary hours \n",
    "           ['10:00','18:30']\n",
    "  Sample Output: [ ['11:30','12:00'],['15:00','16,00'],['18:00','18:30'] ] "
   ]
  },
  {
   "cell_type": "code",
   "execution_count": 117,
   "metadata": {},
   "outputs": [
    {
     "name": "stdout",
     "output_type": "stream",
     "text": [
      "[540, 630, 720, 780, 960, 1080]\n",
      "[600, 690, 750, 870, 870, 900, 960, 1020]\n",
      "[540, 1200]\n",
      "[600, 1110]\n",
      "[[0, 540], [540, 630], [720, 780], [960, 1080], [1200, 1440]]\n",
      "[[0, 600], [600, 690], [750, 870], [870, 900], [960, 1020], [1110, 1440]]\n",
      "[[690, 750], [900, 960], [1020, 1110]]\n",
      "[[630, 720], [780, 960], [1080, 1200]]\n",
      "K\n",
      "L\n",
      "K\n",
      "K\n",
      "K\n",
      "K\n",
      "L\n",
      "K\n",
      "K\n",
      "K\n",
      "K\n",
      "L\n",
      "[[690, 720], [900, 960], [1080, 1110]]\n",
      "['11:30', '12:0', '15:0', '16:0', '18:0', '18:30']\n"
     ]
    }
   ],
   "source": [
    "# lets convert the times into minutes per day, in order to be able to subtract/add correctly\n",
    "# Miuntes= 60 * Hours, so in a day 1:00 AM = 60 Minutes, 9:00 AM = 540 Minutes\n",
    "\n",
    "#Conversion code\n",
    "import re\n",
    "John_times = [ ['9:00','10:30'],['12:00','13:00'],['16:00','18:00'] ]\n",
    "Mark_times = [ ['10:00','11:30'],['12:30','14:30'],['14:30','15:00'],['16:00','17:00']]\n",
    "John_Bounds =  ['9:00','20:00']\n",
    "Mark_Bounds =  ['10:00','18:30']\n",
    "\n",
    "form = lambda H,M : H*60 + M\n",
    "cond_form = lambda times: [form( int(val[0]), int(val[1]) ) for (idx,val) in enumerate(times)]\n",
    "\n",
    "John_times = cond_form( re.findall(r'([0-9]{1,2})[:]([0-9]{1,2})',  str(John_times) )  )\n",
    "Mark_times = cond_form( re.findall(r'(\\d+)[:]([0-9][0-9])',  str(Mark_times) )  )\n",
    "John_Bounds = cond_form( re.findall(r'(\\d+)[:]([0-9][0-9])',  str(John_Bounds) )  )\n",
    "Mark_Bounds = cond_form( re.findall(r'(\\d+)[:]([0-9][0-9])',  str(Mark_Bounds) )  )\n",
    "\n",
    "print(John_times)\n",
    "print(Mark_times)\n",
    "print(John_Bounds)\n",
    "print(Mark_Bounds)\n",
    "\n",
    "#let see availability times\n",
    "John_times = [ 0,John_Bounds[0] ] + John_times + [ John_Bounds[1],24*60 ]\n",
    "Mark_times = [ 0,Mark_Bounds[0] ] + Mark_times + [ Mark_Bounds[1],24*60 ]\n",
    "you = lambda mylist :[ [mylist[i],mylist[i+1]] for i in range(0,len(mylist)-1,2) ]\n",
    "    \n",
    "John_times = you(John_times)\n",
    "Mark_times = you(Mark_times)\n",
    "\n",
    "print(John_times)\n",
    "print(Mark_times)\n",
    "\n",
    "def av_const(my_times):\n",
    "    av_list = list()\n",
    "    for i in range (0,len(my_times)-1):\n",
    "        GAP = (my_times[i+1][0]-my_times[i][1])\n",
    "        if(GAP>0):\n",
    "            av_list.append( [my_times[i][1],my_times[i+1][0]] )\n",
    "    return av_list\n",
    "\n",
    "\n",
    "Mark_av = av_const(Mark_times)\n",
    "print(Mark_av)\n",
    "John_av = av_const(John_times)\n",
    "print(John_av)\n",
    "\n",
    "\n",
    "Cond1 = lambda A,B,C,D: (C<B and C>=A)\n",
    "Cond2 = lambda A,B,C,D: (A<D and A>=C)\n",
    "Cond3 = lambda A,B,C,D: (B>A)and (D>C)\n",
    "\n",
    "\n",
    "result = list()\n",
    "for i in range(0,len(Mark_av)):\n",
    "    for y in range(0,len(John_av)):\n",
    "        if (Cond3(Mark_av[i][0],Mark_av[i][1],John_av[y][0],John_av[y][1]) ):\n",
    "            print(\"K\")\n",
    "            if(Cond1(Mark_av[i][0],Mark_av[i][1],John_av[y][0],John_av[y][1]) or (Cond2(Mark_av[i][0],Mark_av[i][1],John_av[y][0],John_av[y][1])) ):\n",
    "                print(\"L\")\n",
    "                result +=  [max(John_av[y][0],Mark_av[i][0]),min(John_av[y][1],Mark_av[i][1])]\n",
    "print(you(result))\n",
    "\n",
    "ulist =list()\n",
    "for e in you(result):\n",
    "    for p in e:\n",
    "        H=p/60\n",
    "        M=H-float(int(H))\n",
    "        ulist.append('{}:{}'.format(int(H),int(M*60)) ) \n",
    "print(ulist)\n"
   ]
  },
  {
   "cell_type": "code",
   "execution_count": null,
   "metadata": {},
   "outputs": [],
   "source": []
  },
  {
   "cell_type": "code",
   "execution_count": null,
   "metadata": {},
   "outputs": [],
   "source": []
  },
  {
   "cell_type": "code",
   "execution_count": null,
   "metadata": {},
   "outputs": [],
   "source": []
  },
  {
   "cell_type": "code",
   "execution_count": null,
   "metadata": {},
   "outputs": [],
   "source": []
  },
  {
   "cell_type": "code",
   "execution_count": null,
   "metadata": {},
   "outputs": [],
   "source": []
  },
  {
   "cell_type": "code",
   "execution_count": null,
   "metadata": {},
   "outputs": [],
   "source": []
  },
  {
   "cell_type": "code",
   "execution_count": null,
   "metadata": {},
   "outputs": [],
   "source": []
  }
 ],
 "metadata": {
  "kernelspec": {
   "display_name": "Python 3",
   "language": "python",
   "name": "python3"
  },
  "language_info": {
   "codemirror_mode": {
    "name": "ipython",
    "version": 3
   },
   "file_extension": ".py",
   "mimetype": "text/x-python",
   "name": "python",
   "nbconvert_exporter": "python",
   "pygments_lexer": "ipython3",
   "version": "3.7.6"
  }
 },
 "nbformat": 4,
 "nbformat_minor": 4
}
