{
 "cells": [
  {
   "cell_type": "markdown",
   "metadata": {},
   "source": [
    "## This is my solution for Taxi Cab puzzle of Day 1 Advent of Code 2016\n",
    "* Lets model this problem in complex plane. Where is Y-axis has the imaginary numbers and the X-axis has the real numbers.\n",
    "* Also, the North would be +ve Y-axis, South -ve Y-axis, East +ve X-axis, West -ve X-axis\n",
    "\n",
    "* We will point to current location using a vector in the complex plain, If we multiply it by (j) this means a rotation +90    \n",
    "* degrees in the complex plane, also if we add (1) to it this means 1 step towards East\n",
    "* So if the cab was at (x,y)=(0,1j), heading north and turned right (towards East) and moved 1 step, it will end at (1,1j)\n",
    "* What happened is: (x+jy)+(Heading=North(j))*(Turn=Right(-j))*(L=1) = (0+1j) + (j*-j*1) = 1+1j\n",
    "* So for any turn Right, it will be to multiply by -j and for left turn a multiplication by j.\n",
    "\n",
    "* We know priorly that the text files having the input turns and distances is in a format similar to this \"R1, L2, R2, L2\", it \n",
    "* will be more effecient if we use regular expressions to extract all turns and distance found in the following format (turn)\n",
    "* (Distance).\n",
    "\n",
    "   "
   ]
  },
  {
   "cell_type": "code",
   "execution_count": 262,
   "metadata": {},
   "outputs": [
    {
     "ename": "IndexError",
     "evalue": "list index out of range",
     "output_type": "error",
     "traceback": [
      "\u001b[1;31m---------------------------------------------------------------------------\u001b[0m",
      "\u001b[1;31mIndexError\u001b[0m                                Traceback (most recent call last)",
      "\u001b[1;32m<ipython-input-262-b721985c5af9>\u001b[0m in \u001b[0;36m<module>\u001b[1;34m\u001b[0m\n\u001b[0;32m     42\u001b[0m \u001b[1;33m\u001b[0m\u001b[0m\n\u001b[0;32m     43\u001b[0m \u001b[0mmy_list\u001b[0m \u001b[1;33m=\u001b[0m \u001b[0mfindint\u001b[0m\u001b[1;33m(\u001b[0m\u001b[0mExtract\u001b[0m\u001b[1;33m(\u001b[0m\u001b[0mtext\u001b[0m\u001b[1;33m)\u001b[0m\u001b[1;33m)\u001b[0m\u001b[1;33m\u001b[0m\u001b[1;33m\u001b[0m\u001b[0m\n\u001b[1;32m---> 44\u001b[1;33m \u001b[0mdup_list\u001b[0m\u001b[1;33m=\u001b[0m \u001b[0mfind_dup\u001b[0m\u001b[1;33m(\u001b[0m\u001b[0mmy_list\u001b[0m\u001b[1;33m,\u001b[0m\u001b[0mmy_list\u001b[0m\u001b[1;33m)\u001b[0m\u001b[1;33m\u001b[0m\u001b[1;33m\u001b[0m\u001b[0m\n\u001b[0m\u001b[0;32m     45\u001b[0m \u001b[0mget_first_dup\u001b[0m\u001b[1;33m(\u001b[0m\u001b[0mdup_list\u001b[0m\u001b[1;33m)\u001b[0m\u001b[1;33m\u001b[0m\u001b[1;33m\u001b[0m\u001b[0m\n",
      "\u001b[1;32m<ipython-input-261-8a81134a4c1e>\u001b[0m in \u001b[0;36mfind_dup\u001b[1;34m(list_one, list_two)\u001b[0m\n\u001b[0;32m     11\u001b[0m     \u001b[1;32mfor\u001b[0m \u001b[0mi\u001b[0m \u001b[1;32min\u001b[0m \u001b[0mrange\u001b[0m\u001b[1;33m(\u001b[0m\u001b[1;36m0\u001b[0m\u001b[1;33m,\u001b[0m\u001b[0mlen\u001b[0m\u001b[1;33m(\u001b[0m\u001b[0mduplist\u001b[0m\u001b[1;33m)\u001b[0m\u001b[1;33m)\u001b[0m\u001b[1;33m:\u001b[0m\u001b[1;33m\u001b[0m\u001b[1;33m\u001b[0m\u001b[0m\n\u001b[0;32m     12\u001b[0m         \u001b[1;32mfor\u001b[0m \u001b[0mj\u001b[0m \u001b[1;32min\u001b[0m \u001b[0mrange\u001b[0m\u001b[1;33m(\u001b[0m\u001b[0mi\u001b[0m\u001b[1;33m+\u001b[0m\u001b[1;36m1\u001b[0m\u001b[1;33m,\u001b[0m\u001b[0mlen\u001b[0m\u001b[1;33m(\u001b[0m\u001b[0mduplist\u001b[0m\u001b[1;33m)\u001b[0m\u001b[1;33m)\u001b[0m\u001b[1;33m:\u001b[0m\u001b[1;33m\u001b[0m\u001b[1;33m\u001b[0m\u001b[0m\n\u001b[1;32m---> 13\u001b[1;33m             \u001b[1;32mif\u001b[0m\u001b[1;33m(\u001b[0m \u001b[0mduplist\u001b[0m\u001b[1;33m[\u001b[0m\u001b[0mi\u001b[0m\u001b[1;33m]\u001b[0m\u001b[1;33m==\u001b[0m\u001b[0mduplist\u001b[0m\u001b[1;33m[\u001b[0m\u001b[0mj\u001b[0m\u001b[1;33m]\u001b[0m\u001b[1;33m)\u001b[0m\u001b[1;33m:\u001b[0m\u001b[1;33m\u001b[0m\u001b[1;33m\u001b[0m\u001b[0m\n\u001b[0m\u001b[0;32m     14\u001b[0m                 \u001b[1;31m#duplist[j][0]='x'\u001b[0m\u001b[1;33m\u001b[0m\u001b[1;33m\u001b[0m\u001b[1;33m\u001b[0m\u001b[0m\n\u001b[0;32m     15\u001b[0m                 \u001b[0mduplist\u001b[0m\u001b[1;33m.\u001b[0m\u001b[0mpop\u001b[0m\u001b[1;33m(\u001b[0m\u001b[0mj\u001b[0m\u001b[1;33m)\u001b[0m\u001b[1;33m\u001b[0m\u001b[1;33m\u001b[0m\u001b[0m\n",
      "\u001b[1;31mIndexError\u001b[0m: list index out of range"
     ]
    }
   ],
   "source": [
    "import re\n",
    "\n",
    "text = \"R1, L3, R5, R5, R5, L4, R5, R1, R2, L1, L1, R5, R1, L3, L5, L2, R4, L1, R4, R5, L3, R5, L1, R3, L5, R1, L2, R1, L5, L1, R1, R4, R1, L1, L3, R3, R5, L3, R4, L4, R5, L5, L1, L2, R4, R3, R3, L185, R3, R4, L5, L4, R48, R1, R2, L1, R1, L4, L4, R77, R5, L2, R192, R2, R5, L4, L5, L3, R2, L4, R1, L5, R5, R4, R1, R2, L3, R4, R4, L2, L4, L3, R5, R4, L2, L1, L3, R1, R5, R5, R2, L5, L2, L3, L4, R2, R1, L4, L1, R1, R5, R3, R3, R4, L1, L4, R1, L2, R3, L3, L2, L1, L2, L2, L1, L2, R3, R1, L4, R1, L1, L4, R1, L2, L5, R3, L5, L2, L2, L3, R1, L4, R1, R1, R2, L1, L4, L4, R2, R2, R2, R2, R5, R1, L1, L4, L5, R2, R4, L3, L5, R2, R3, L4, L1, R2, R3, R5, L2, L3, R3, R1, R3\"\n",
    "def Extract(text):\n",
    "    My_list = re.findall(r'(R|L)(\\d+)',text)\n",
    "    New_list = list()\n",
    "    for turn,distance in My_list:\n",
    "        if turn == 'R':\n",
    "            turn_comp = -1j\n",
    "        elif turn == 'L':\n",
    "            turn_comp = 1j\n",
    "        New_list.append((turn_comp,distance))\n",
    "    return New_list\n",
    "        \n",
    "def findpos(New_list):\n",
    "    current_position = 0+0j\n",
    "    Heading = 1j\n",
    "    for Turn,L in New_list:\n",
    "        current_position += (Heading*Turn*int(L))\n",
    "        Heading = Heading*Turn\n",
    "    return (abs(int(current_position.real))+abs(int(current_position.imag)),Heading)\n",
    "    \n",
    "def findint(New_list):\n",
    "    current_position = 0+0j\n",
    "    Heading = 1j\n",
    "    pos_list = [(current_position.real,current_position.imag)]\n",
    "    for Turn,L in New_list:\n",
    "        current_position += (Heading*Turn*1)\n",
    "        Heading = Heading*Turn\n",
    "        pos_list.append( (current_position.real,current_position.imag) )\n",
    "        for i in range(1,int(L)):\n",
    "            current_position += (Heading*1)\n",
    "            pos_list.append( (current_position.real,current_position.imag) )\n",
    "    #print(pos_list)    \n",
    "    #print(abs(int(current_position.real))+abs(int(current_position.imag)),Heading)\n",
    "    return(pos_list)    \n",
    "\n",
    "def get_first_dup(dup_list):\n",
    "    for item in dup_list:\n",
    "        if(item[0]>1):\n",
    "            return (item)\n",
    "\n",
    "my_list = findint(Extract(text))\n",
    "dup_list= find_dup(my_list,my_list)\n",
    "get_first_dup(dup_list)\n"
   ]
  },
  {
   "cell_type": "markdown",
   "metadata": {},
   "source": [
    "## My Python Tools\n",
    "* You Can find below my python tools\n",
    "\n",
    "* 1- find_dup(List_A,List_B), this function searches List_B for elements in List_A, then return a list having distinct elements \n",
    "*    of List_A with their number of occureneces\n",
    "* 2- \n"
   ]
  },
  {
   "cell_type": "code",
   "execution_count": 263,
   "metadata": {},
   "outputs": [],
   "source": [
    "## My Python Tools\n",
    "\n",
    "# This function searches list_two for list_one unrepeated elements\n",
    "def find_dup(list_one,list_two):\n",
    "    modlist = lambda my_list : [[0,my_list[i]] for i in range(0,len(my_list))]\n",
    "    duplist = modlist(list_one)\n",
    "    for ElemA in duplist:\n",
    "        for ElemB in list_two:\n",
    "            if (ElemA[1] == ElemB):\n",
    "                ElemA[0] += 1                \n",
    "    for i in range(0,len(duplist)):\n",
    "        for j in range(i+1,len(duplist)):\n",
    "            if( duplist[i]==duplist[j]):\n",
    "                duplist[j][0]='x'\n",
    "    return [(a,b) for (a,b) in duplist if a != 'x']\n",
    "                \n",
    "assert(find_dup([1,2,1],[1,4])==[(1,1),(0,2)]) "
   ]
  },
  {
   "cell_type": "markdown",
   "metadata": {},
   "source": [
    "## For Day 2 Puzzle of the Keypad problem\n",
    "* Handling in complex plane as well"
   ]
  },
  {
   "cell_type": "code",
   "execution_count": 264,
   "metadata": {},
   "outputs": [
    {
     "name": "stdout",
     "output_type": "stream",
     "text": [
      "6\n"
     ]
    }
   ],
   "source": [
    "my_text = \"\"\n",
    "\n",
    "def Ext_Dir(text):\n",
    "    my_dic = dict(U=1j,D=-1j,R=1,L=-1)\n",
    "    return [my_dic[x] for x in re.findall(r'(U|D|R|L)',text)]\n",
    "\n",
    "def loc(point):\n",
    "    if(point== 0+1j ):\n",
    "        return 2\n",
    "    elif (point== 0-1j ):\n",
    "        return 8\n",
    "    elif (point== 1+0j ):\n",
    "        return 6\n",
    "    elif (point== -1+0j ):\n",
    "        return 4\n",
    "    elif (point== 1+1j ):\n",
    "        return 3\n",
    "    elif (point== 1-1j ):\n",
    "        return 9\n",
    "    elif (point== -1+1j ):\n",
    "        return 1\n",
    "    elif (point== -1-1j ):\n",
    "        return 7\n",
    "    elif (point== 0+0j ):\n",
    "        return 5\n",
    "    else:\n",
    "        return False\n",
    "    \n",
    "    \n",
    "def drive(my_list):\n",
    "    cur_pos=0+0j\n",
    "    for item in my_list:\n",
    "       if not (abs(cur_pos.real+item.real)>1 or abs(cur_pos.imag+item.imag)>1):\n",
    "            cur_pos += item\n",
    "            #print('Current Position:',cur_pos)\n",
    "    return cur_pos\n",
    "\n",
    "#Part 2\n",
    "def loc2(point):\n",
    "    if(point== 0+1j ):\n",
    "        return 3\n",
    "    elif (point== 0-1j ):\n",
    "        return 'B'\n",
    "    elif (point== 1+0j ):\n",
    "        return 8\n",
    "    elif (point== -1+0j ):\n",
    "        return 6\n",
    "    elif (point== 1+1j ):\n",
    "        return 4\n",
    "    elif (point== 1-1j ):\n",
    "        return 'C'\n",
    "    elif (point== -1+1j ):\n",
    "        return 2\n",
    "    elif (point== -1-1j ):\n",
    "        return 'A'\n",
    "    elif (point== 0+0j ):\n",
    "        return 7\n",
    "    elif (point== -2+0j ):\n",
    "        return 5\n",
    "    elif (point== 0+2j ):\n",
    "        return 1\n",
    "    elif (point== 2+0j ):\n",
    "        return 9\n",
    "    elif (point== 0-2j ):\n",
    "        return 'D'\n",
    "    else:\n",
    "        return False\n",
    "\n",
    "def drive2(my_list):\n",
    "    cur_pos=-2+0j\n",
    "    for item in my_list:\n",
    "       if not (abs(cur_pos.real+item.real)+abs(cur_pos.imag+item.imag)>2):\n",
    "            cur_pos += item\n",
    "            #print('Current Position:',cur_pos)\n",
    "    return cur_pos\n",
    "\n",
    "print(loc2(drive2(Ext_Dir('LUULR'))))\n",
    "\n",
    "    "
   ]
  },
  {
   "cell_type": "code",
   "execution_count": 234,
   "metadata": {},
   "outputs": [
    {
     "name": "stdout",
     "output_type": "stream",
     "text": [
      "True\n"
     ]
    }
   ],
   "source": [
    "\n",
    "if(-1)==((-1-0j)):\n",
    "    print(True)"
   ]
  },
  {
   "cell_type": "code",
   "execution_count": 2,
   "metadata": {},
   "outputs": [
    {
     "name": "stdout",
     "output_type": "stream",
     "text": [
      "70\n"
     ]
    }
   ],
   "source": [
    "y=70\n",
    "\n",
    "def hey():\n",
    "    print(y)\n",
    "    \n",
    "hey()"
   ]
  },
  {
   "cell_type": "code",
   "execution_count": null,
   "metadata": {},
   "outputs": [],
   "source": []
  },
  {
   "cell_type": "code",
   "execution_count": null,
   "metadata": {},
   "outputs": [],
   "source": []
  }
 ],
 "metadata": {
  "kernelspec": {
   "display_name": "Python 3",
   "language": "python",
   "name": "python3"
  },
  "language_info": {
   "codemirror_mode": {
    "name": "ipython",
    "version": 3
   },
   "file_extension": ".py",
   "mimetype": "text/x-python",
   "name": "python",
   "nbconvert_exporter": "python",
   "pygments_lexer": "ipython3",
   "version": "3.7.6"
  }
 },
 "nbformat": 4,
 "nbformat_minor": 4
}
